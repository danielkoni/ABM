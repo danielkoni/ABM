{
 "cells": [
  {
   "cell_type": "code",
   "execution_count": 7,
   "metadata": {},
   "outputs": [],
   "source": [
    "import seaborn as sns\n",
    "import numpy as np\n",
    "import matplotlib.pyplot as plt\n",
    "import mesa"
   ]
  },
  {
   "cell_type": "code",
   "execution_count": 9,
   "metadata": {},
   "outputs": [
    {
     "data": {
      "image/png": "[encoded data removed]",
      "text/plain": [
       "<Figure size 640x480 with 1 Axes>"
      ]
     },
     "metadata": {},
     "output_type": "display_data"
    }
   ],
   "source": [
    "def compute_gini(model):\n",
    "    agent_wealths = [agent.wealth for agent in model.agents]\n",
    "    x = sorted(agent_wealths)\n",
    "    n = model.num_agents\n",
    "    B = sum(xi * (n - i) for i, xi in enumerate(x)) / (n * sum(x))\n",
    "    return 1 + (1 / n) - 2 * B\n",
    "\n",
    "\n",
    "class MoneyAgent(mesa.Agent):\n",
    "\n",
    "    def __init__(self, model, ethnicity):\n",
    "        super().__init__(model)\n",
    "        self.wealth = 1\n",
    "        self.ethnicity = ethnicity\n",
    "\n",
    "    def give_money(self, similars):\n",
    "        if self.wealth > 0:\n",
    "            other_agent = self.random.choice(similars)\n",
    "            other_agent.wealth += 1\n",
    "            self.wealth -= 1\n",
    "\n",
    "class MoneyModel(mesa.Model):\n",
    "\n",
    "    def __init__(self, n):\n",
    "        super().__init__()\n",
    "        self.num_agents = n\n",
    "\n",
    "        #Create a list of our different ethnicities\n",
    "        ethnicities = [\"Green\", \"Blue\", \"Mixed\"]\n",
    "\n",
    "        #Create agents\n",
    "        MoneyAgent.create_agents(\n",
    "            model=self, n=n, ethnicity=self.random.choice(ethnicities)\n",
    "        )\n",
    "\n",
    "        self.datacollector = mesa.DataCollector(\n",
    "            model_reporters={\"Gini\": compute_gini},\n",
    "            agent_reporters={\"Wealth\": \"wealth\", \"Ethnicity\": \"ethnicity\"},\n",
    "        )\n",
    "\n",
    "    def step(self):\n",
    "        self.datacollector.collect(self)\n",
    "        # groupby returns a dictionary of\n",
    "        # key: ethnicity and value: list of agents with that ethnicity\n",
    "        grouped_agents = model.agents.groupby(\"ethnicity\")\n",
    "\n",
    "        for ethnic, similars in grouped_agents:\n",
    "            if ethnic != \"Mixed\":\n",
    "                similars.shuffle_do(\"give_money\", similars)\n",
    "            else:\n",
    "                similars.shuffle_do(\n",
    "                    \"give_money\", self.num_agents\n",
    "                ) # This allows mixed to trade with everyone\n",
    "\n",
    "\n",
    "\n",
    "# Run the model\n",
    "model = MoneyModel(100)\n",
    "for _ in range(20):\n",
    "    model.step()\n",
    "\n",
    "# get the data\n",
    "data = model.datacollector.get_agent_vars_dataframe()\n",
    "# assign histogram colors\n",
    "palette = {\"Green\": \"green\", \"Blue\": \"blue\", \"Mixed\": \"purple\"}\n",
    "g = sns.histplot(data=data, x=\"Wealth\", hue=\"Ethnicity\", discrete=True, palette=palette)\n",
    "g.set(title=\"Wealth distribution\", xlabel=\"Wealth\", ylabel=\"number of agents\");"
   ]
  },
  {
   "cell_type": "code",
   "execution_count": null,
   "metadata": {},
   "outputs": [],
   "source": []
  },
  {
   "cell_type": "code",
   "execution_count": null,
   "metadata": {},
   "outputs": [],
   "source": []
  }
 ],
 "metadata": {
  "kernelspec": {
   "display_name": ".venv",
   "language": "python",
   "name": "python3"
  },
  "language_info": {
   "codemirror_mode": {
    "name": "ipython",
    "version": 3
   },
   "file_extension": ".py",
   "mimetype": "text/x-python",
   "name": "python",
   "nbconvert_exporter": "python",
   "pygments_lexer": "ipython3",
   "version": "3.13.2"
  }
 },
 "nbformat": 4,
 "nbformat_minor": 2
}
